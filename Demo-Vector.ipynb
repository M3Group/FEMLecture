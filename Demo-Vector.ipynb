{
 "cells": [
  {
   "cell_type": "markdown",
   "id": "d4d0e451-bf79-4b09-a28c-ee03b20665e8",
   "metadata": {},
   "source": [
    "# Demo notebook for vector manipulation\n",
    "\n",
    "- [x] standard operators between vector/vector and vector/scalar\n",
    "\n",
    "\n",
    "Author: Yang Bai @ M3 Group\n",
    "\n",
    "Date  : 2022.06.30\n",
    "\n",
    "QQ group: 628204857"
   ]
  },
  {
   "cell_type": "code",
   "execution_count": 1,
   "id": "1cc93fce-f73f-40c6-9958-245c60a33e04",
   "metadata": {},
   "outputs": [],
   "source": [
    "# before we start, we need to import the vector class\n",
    "from FEToy.mathutils.vector import vector"
   ]
  },
  {
   "cell_type": "markdown",
   "id": "33c45150-9e5a-45a8-8326-10d7772d5e2a",
   "metadata": {},
   "source": [
    "## $+$ operator\n",
    "\n",
    "$+$ operator can be used for the calculation in $\\vec{a}+\\vec{b}$ and $\\vec{a}+b$\n",
    "\n",
    "where\n",
    "\n",
    "$\\vec{a}+\\vec{b}=\\vec{c},\\mathrm{with}~c_{i}=a_{i}+b_{i}$\n",
    "\n",
    "and\n",
    "\n",
    "$\\vec{a}+b=\\vec{c},\\mathrm{with}~c_{i}=a_{i}+b$"
   ]
  },
  {
   "cell_type": "code",
   "execution_count": 2,
   "id": "fc8be95c-7e12-466b-a594-47bcb6830334",
   "metadata": {},
   "outputs": [
    {
     "name": "stdout",
     "output_type": "stream",
     "text": [
      "vector a,vector components are:    0.00000e+00,    0.00000e+00    0.00000e+00\n",
      "vector b,vector components are:    1.00000e+00,    1.00000e+00    1.00000e+00\n",
      "-------------------------------------\n",
      "(   1.00000e+00,    1.00000e+00,    1.00000e+00)\n",
      "-------------------------------------\n",
      "(   2.00000e+00,    2.00000e+00,    2.00000e+00)\n",
      "(   3.00000e+00,    3.00000e+00,    3.00000e+00)\n",
      "(   9.59581e-01,    9.90323e-02,    6.48479e-01)\n",
      "-------------------------------------\n",
      "(   9.59581e-01,    2.00000e+00,    6.48479e-01)\n",
      "(   9.59581e-01,    2.00000e+00,    5.00000e+00)\n"
     ]
    }
   ],
   "source": [
    "vec_a = vector(dim=3)\n",
    "vec_a.print('vector a')\n",
    "\n",
    "vec_b = vector(dim=3,value=1.0)\n",
    "vec_b.print('vector b')\n",
    "\n",
    "print('-------------------------------------')\n",
    "\n",
    "vec_c = vec_a+vec_b\n",
    "print(vec_c)\n",
    "\n",
    "print('-------------------------------------')\n",
    "\n",
    "vec_d = vec_c + 1.0\n",
    "print(vec_d)\n",
    "vec_e = vector(3,0.0)\n",
    "vec_e[:] = vec_d[:]\n",
    "vec_e.setToRandom()\n",
    "print(vec_d+1.0)\n",
    "print(vec_e)\n",
    "\n",
    "print('-------------------------------------')\n",
    "\n",
    "# for element access\n",
    "vec_e [1]=2.0\n",
    "print(vec_e)\n",
    "\n",
    "vec_e [2]=5.0\n",
    "print(vec_e)"
   ]
  },
  {
   "cell_type": "markdown",
   "id": "4fbaa859-8ff2-44a5-8c2b-a24ec8fbe8ea",
   "metadata": {},
   "source": [
    "## $-$ operator\n",
    "\n",
    "$-$ operator can be used for the calculation in $\\vec{a}-\\vec{b}$ and $\\vec{a}-b$\n",
    "\n",
    "where\n",
    "\n",
    "$\\vec{a}-\\vec{b}=\\vec{c},\\mathrm{with}~c_{i}=a_{i}-b_{i}$\n",
    "\n",
    "and\n",
    "\n",
    "$\\vec{a}-b=\\vec{c},\\mathrm{with}~c_{i}=a_{i}-b$"
   ]
  },
  {
   "cell_type": "code",
   "execution_count": 3,
   "id": "398f1f27-552a-4f02-b326-1a9cedbe193d",
   "metadata": {},
   "outputs": [
    {
     "name": "stdout",
     "output_type": "stream",
     "text": [
      "(   0.00000e+00,    0.00000e+00,    0.00000e+00)\n",
      "(   1.00000e+00,    1.00000e+00,    1.00000e+00)\n",
      "(  -1.00000e+00,   -1.00000e+00,   -1.00000e+00)\n",
      "-------------------------------------\n",
      "vector c,vector components are:   -1.00000e+00,    2.00000e+00   -1.00000e+00\n",
      "(  -2.00000e+00,    1.00000e+00,   -2.00000e+00)\n",
      "-------------------------------------\n",
      "(  -6.00000e+00,   -3.00000e+00,   -6.00000e+00)\n"
     ]
    }
   ],
   "source": [
    "vec_c = vec_a-vec_b\n",
    "\n",
    "print(vec_a)\n",
    "print(vec_b)\n",
    "print(vec_c)\n",
    "\n",
    "print('-------------------------------------')\n",
    "\n",
    "vec_c[1]=2.0\n",
    "vec_c.print('vector c')\n",
    "print(vec_c-1.0)\n",
    "\n",
    "print('-------------------------------------')\n",
    "\n",
    "vec_d = vec_c-5.0\n",
    "print(vec_d)"
   ]
  },
  {
   "cell_type": "markdown",
   "id": "95a5b74f-7f30-4e74-9fe1-46739aafb389",
   "metadata": {},
   "source": [
    "## $*$ operator\n",
    "\n",
    "$*$ operator can be used for the calculation in $\\vec{a}*\\vec{b}$ and $\\vec{a}*b$\n",
    "\n",
    "where\n",
    "\n",
    "$\\vec{a}\\cdot\\vec{b}=\\sum_{i}a_{i}b_{i}$\n",
    "\n",
    "and\n",
    "\n",
    "$\\vec{a}\\cdot b=\\vec{c},\\mathrm{with}~c_{i}=a_{i}*b$"
   ]
  },
  {
   "cell_type": "code",
   "execution_count": 4,
   "id": "6d372727-c4b9-4e63-ad43-980b9de40264",
   "metadata": {},
   "outputs": [
    {
     "name": "stdout",
     "output_type": "stream",
     "text": [
      "(   1.00000e+00,    1.00000e+00,    1.00000e+00)\n",
      "(   2.00000e+00,    2.00000e+00,    2.00000e+00)\n",
      "-------------------------------------\n",
      "6.0\n",
      "(   2.00000e+00,    2.00000e+00,    2.00000e+00)\n",
      "6.0\n",
      "-------------------------------------\n",
      "vector c, vector components are:    1.51993e-02,    5.58038e-01\n",
      "vector d, vector components are:    5.68158e-01,    1.60769e-01\n",
      "vector c*2.0, vector components are:    3.03986e-02,    1.11608e+00\n",
      "vector-c X vector-d is 0.0983510915112724\n",
      "vector-c X vector-d(manul) is 0.0983510915112724\n"
     ]
    }
   ],
   "source": [
    "vec_a[:] = 1.0\n",
    "vec_b[:] = 2.0\n",
    "\n",
    "print(vec_a)\n",
    "print(vec_b)\n",
    "\n",
    "print('-------------------------------------')\n",
    "\n",
    "scalar = vec_a*vec_b\n",
    "print(scalar)\n",
    "print(vec_a*2.0)\n",
    "print(vec_a*vec_b)\n",
    "\n",
    "print('-------------------------------------')\n",
    "\n",
    "vec_c = vector() # default dim=2\n",
    "vec_d = vector() # default dim=2, value=0\n",
    "\n",
    "vec_c.setToRandom()\n",
    "vec_d.setToRandom()\n",
    "\n",
    "vec_c.print('vector c')\n",
    "vec_d.print('vector d')\n",
    "(vec_c*2.0).print('vector c*2.0')\n",
    "print('vector-c X vector-d is',vec_c*vec_d)\n",
    "print('vector-c X vector-d(manul) is',vec_c[0]*vec_d[0]+vec_c[1]*vec_d[1])"
   ]
  },
  {
   "cell_type": "markdown",
   "id": "c887bd7a-2efa-4c51-9f1e-0c822f41e4e4",
   "metadata": {},
   "source": [
    "## $/$ operator\n",
    "\n",
    "$/$ operator can only be used for the calculation in $\\vec{a}/b$\n",
    "\n",
    "where\n",
    "\n",
    "\n",
    "$\\vec{a}/ b=\\vec{c},\\mathrm{with}~c_{i}=a_{i}/b$"
   ]
  },
  {
   "cell_type": "code",
   "execution_count": 5,
   "id": "b0f61a66-276b-4d84-8221-b42b412ae049",
   "metadata": {},
   "outputs": [
    {
     "name": "stdout",
     "output_type": "stream",
     "text": [
      "vector c, vector components are:    5.00000e+00,    5.00000e+00\n",
      "(   1.00000e+00,    1.00000e+00)\n"
     ]
    }
   ],
   "source": [
    "vec_c[:]=5.0 # slice operator\n",
    "\n",
    "vec_c.print('vector c')\n",
    "print(vec_c/5.0)"
   ]
  }
 ],
 "metadata": {
  "kernelspec": {
   "display_name": "Python 3 (ipykernel)",
   "language": "python",
   "name": "python3"
  },
  "language_info": {
   "codemirror_mode": {
    "name": "ipython",
    "version": 3
   },
   "file_extension": ".py",
   "mimetype": "text/x-python",
   "name": "python",
   "nbconvert_exporter": "python",
   "pygments_lexer": "ipython3",
   "version": "3.10.4"
  }
 },
 "nbformat": 4,
 "nbformat_minor": 5
}
