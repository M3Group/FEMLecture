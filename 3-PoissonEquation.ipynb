{
 "cells": [
  {
   "cell_type": "markdown",
   "id": "101f55ab-c566-41aa-a4ce-4d3888910e3a",
   "metadata": {},
   "source": [
    "# Your first FEM solver- poisson equation solver\n",
    "\n",
    "- [x] isoparametric element(mesh)\n",
    "- [x] dirichlet bc\n",
    "- [x] elemen loop\n",
    "- [x] matrix/vector assemble\n",
    "- [x] 1d/2d poisson equation\n",
    "\n",
    "Author: Yang Bai @ M3 Group\n",
    "\n",
    "Date  : 2022.01.23\n",
    "\n",
    "QQ group: 628204857"
   ]
  },
  {
   "cell_type": "markdown",
   "id": "0dd37a11-fb46-41e4-9fd5-b57ed1e1a937",
   "metadata": {
    "jp-MarkdownHeadingCollapsed": true,
    "tags": []
   },
   "source": [
    "## Poisson equation\n",
    "\n",
    "$-\\Delta\\phi=f$ or in 1d case: $-\\frac{\\partial^{2}\\phi}{\\partial x^{2}}=f$\n",
    "\n",
    "Boundary conditions:\n",
    "\n",
    "$\\phi(x=x_{1})=y_{1}$ and $\\phi(x=x_{2})=y_{2}$\n",
    "\n",
    "The analytical solution in 1D case can be read as follows:\n",
    "\n",
    "$\\phi(x)=-\\frac{f}{2}x^{2}+ax+b$, with $a=\\frac{y_{1}-y_{2}}{x_{1}-x_{2}}+\\frac{f}{2}(x_{1}+x_{2})$ and $b=y_{1}-ax_{1}+\\frac{f}{2}x_{1}^{2}$"
   ]
  },
  {
   "cell_type": "markdown",
   "id": "e8051026-fd0c-47b6-b4ba-d61009d20cd4",
   "metadata": {},
   "source": [
    "# isoparametric mesh\n",
    "\n",
    "$\\int_{\\Omega}f(x,y,z)dxdydz=\\int_{\\Omega}f(x,y,z)d\\xi d\\eta d\\zeta J$, with $J=\\mathrm{det}(\\frac{\\partial\\mathbf{x}}{\\partial\\mathbf{\\xi}})$\n",
    "\n",
    "In 1D case, the jacobian matrix looks like: $J=\\frac{\\partial x}{\\partial\\xi}$.\n",
    "\n",
    "In 2D case, it should be:\n",
    "$\\mathbf{J}=\\begin{bmatrix}\n",
    "\\frac{\\partial x}{\\partial\\xi} & \\frac{\\partial y}{\\partial\\xi} \\\\\n",
    "\\frac{\\partial x}{\\partial\\eta} & \\frac{\\partial y}{\\partial\\eta}\n",
    "\\end{bmatrix}$"
   ]
  },
  {
   "cell_type": "code",
   "execution_count": 1,
   "id": "31c260af-f4f6-4e16-a2c9-1320c0c52c48",
   "metadata": {},
   "outputs": [
    {
     "data": {
      "text/plain": [
       "[<matplotlib.lines.Line2D at 0x7f40eb3cba30>]"
      ]
     },
     "execution_count": 1,
     "metadata": {},
     "output_type": "execute_result"
    },
    {
     "data": {
      "image/png": "[encoded data removed]",
      "text/plain": [
       "<Figure size 432x288 with 1 Axes>"
      ]
     },
     "metadata": {
      "needs_background": "light"
     },
     "output_type": "display_data"
    }
   ],
   "source": [
    "import numpy as np\n",
    "import matplotlib.pyplot as plt\n",
    "\n",
    "x=np.asarray([0.0,1.0,1.0,0.0,0.0])\n",
    "y=np.asarray([0.0,0.0,1.0,1.0,0.0])\n",
    "\n",
    "plt.plot(x,y,'k-o')"
   ]
  },
  {
   "cell_type": "code",
   "execution_count": 2,
   "id": "0b4b6a96-6d8e-4151-b32f-7c1615cbc3f0",
   "metadata": {},
   "outputs": [
    {
     "data": {
      "text/plain": [
       "[<matplotlib.lines.Line2D at 0x7f40eb2d6640>]"
      ]
     },
     "execution_count": 2,
     "metadata": {},
     "output_type": "execute_result"
    },
    {
     "data": {
      "image/png": "[encoded data removed]",
      "text/plain": [
       "<Figure size 432x288 with 1 Axes>"
      ]
     },
     "metadata": {
      "needs_background": "light"
     },
     "output_type": "display_data"
    }
   ],
   "source": [
    "x=np.asarray([0.0,1.2,1.0,0.2,0.0])\n",
    "y=np.asarray([0.0,-0.2,1.5,0.8,0.0])\n",
    "\n",
    "plt.plot(x,y,'k-o')"
   ]
  },
  {
   "cell_type": "markdown",
   "id": "a2a75bfa-2c0a-402f-abf7-d8cbfa8eddb9",
   "metadata": {},
   "source": [
    "For isoparametric mesh, one can define $\\xi,\\eta,\\zeta\\in\\{-1,1\\}$, then we can do the maping between $(x,y,z)$ and $(\\xi,\\eta,\\zeta)$"
   ]
  },
  {
   "cell_type": "code",
   "execution_count": 3,
   "id": "d0c3c112-0cc6-446c-9fe2-7279048142e0",
   "metadata": {},
   "outputs": [
    {
     "name": "stdout",
     "output_type": "stream",
     "text": [
      "[[ 1.         -0.57735027]\n",
      " [ 1.          0.57735027]]\n"
     ]
    },
    {
     "data": {
      "image/png": "[encoded data removed]",
      "text/plain": [
       "<Figure size 432x288 with 1 Axes>"
      ]
     },
     "metadata": {
      "needs_background": "light"
     },
     "output_type": "display_data"
    }
   ],
   "source": [
    "from FEToy.mesh.lagrange1dmesh import mesh1d\n",
    "from FEToy.fe.shapefun import shape1d\n",
    "from FEToy.fe.gaussrule import gausspoint1d\n",
    "\n",
    "mymesh=mesh1d(nx=5,meshtype='edge2')\n",
    "mymesh.createmesh()\n",
    "mymesh.plotmesh(withnode=True,withnodeid=True)\n",
    "\n",
    "gpoints=gausspoint1d(ngp=2)\n",
    "gpoints.creategausspoint()\n",
    "print(gpoints.gpcoords)\n",
    "\n",
    "shp=shape1d(meshtype='edge2')\n",
    "shp.update()"
   ]
  },
  {
   "cell_type": "markdown",
   "id": "f2ab1e26-333d-49d2-86d0-796b87049e09",
   "metadata": {},
   "source": [
    "$\\phi(x)=-\\frac{f}{2}x^{2}+ax+b$, with $a=\\frac{y_{1}-y_{2}}{x_{1}-x_{2}}+\\frac{f}{2}(x_{1}+x_{2})$ and $b=y_{1}-ax_{1}+\\frac{f}{2}x_{1}^{2}$"
   ]
  },
  {
   "cell_type": "code",
   "execution_count": 4,
   "id": "f3a6b330-b988-47a7-960c-3592b29e55cc",
   "metadata": {},
   "outputs": [],
   "source": [
    "# Here are your parameters\n",
    "f=10.0\n",
    "x1=0.0;y1=0.5 # left\n",
    "x2=1.0;y2=5.0 # right\n",
    "\n",
    "def Analytical(x):\n",
    "    a=(y1-y2)/(x1-x2)+0.5*f*(x1+x2)\n",
    "    b=y1-a*x1+0.5*f*x1*x1\n",
    "    return -0.5*f*x*x+a*x+b"
   ]
  },
  {
   "cell_type": "markdown",
   "id": "ad6e3848-4efc-4af8-988c-80a47832c2d0",
   "metadata": {},
   "source": [
    "The K matrix and the right hand side vector can be defined as follows:\n",
    "\n",
    "$K=\\int_{\\Omega}\\nabla N^{J}\\nabla N^{I}dV$, $F=\\int_{\\Omega}fN^{I}dV$\n",
    "\n",
    "where $I$ and $J$ are the I-th and J-th node of the current element, respectively. $N$ and $\\nabla N$ represent the shape function value and its derivatives, respectively. "
   ]
  },
  {
   "cell_type": "code",
   "execution_count": 5,
   "id": "525073ab-eb32-4bf0-9d46-3fa386efa201",
   "metadata": {},
   "outputs": [],
   "source": [
    "nDofs=mymesh.nodes*1 # total degrees of freedom\n",
    "K=np.zeros((nDofs,nDofs)) # Your K matrix\n",
    "F=np.zeros(nDofs)         # Your RHS\n",
    "\n",
    "# do element loop\n",
    "for e in range(mymesh.elements):\n",
    "    elconn=mymesh.elementconn[e,:]  # local element connectivity\n",
    "    nodes=mymesh.nodecoords[elconn] # node coordinates of local element\n",
    "    # now we can do the integration\n",
    "    for gp in range(gpoints.ngp):\n",
    "        xi=gpoints.gpcoords[gp,1] # 1->xi, 2->eta\n",
    "        w =gpoints.gpcoords[gp,0] # weight\n",
    "        \n",
    "        shp_val,shp_grad,j=shp.calc(xi,nodes) # j->mapping from x->xi\n",
    "        JxW=j*w # the weight times the determinate of jacobian transformation\n",
    "        \n",
    "        # now we can calculate the F term\n",
    "        for i in range(mymesh.nodesperelement*1):\n",
    "            iInd=elconn[i]\n",
    "            # assemble to global F\n",
    "            F[iInd]+=f*shp_val[i]*JxW\n",
    "            # now we can calculate the K matrix\n",
    "            for j in range(mymesh.nodesperelement*1):\n",
    "                jInd=elconn[j]\n",
    "                K[iInd,jInd]+=shp_grad[j]*shp_grad[i]*JxW\n",
    "#\n",
    "#print(K)\n",
    "#print(F)"
   ]
  },
  {
   "cell_type": "code",
   "execution_count": 6,
   "id": "8d7f3bf8-d57e-4ef9-a101-e315e22bad09",
   "metadata": {},
   "outputs": [],
   "source": [
    "# Now we should apply our boundary conditions\n",
    "iInd=mymesh.bcnodeids['left']\n",
    "K[iInd,iInd]+=1.0e16 # here we use the penalty method, 1.0e16 is the 'large' number for penalty\n",
    "F[iInd]+=y1*1.0e16\n",
    "\n",
    "iInd=mymesh.bcnodeids['right']\n",
    "K[iInd,iInd]+=1.0e16\n",
    "F[iInd]+=y2*1.0e16\n",
    "\n",
    "#print(K)\n",
    "\n",
    "# now we solve K*u=F by u=K\\F\n",
    "phi=np.linalg.solve(K,F)\n",
    "#print(phi)"
   ]
  },
  {
   "cell_type": "code",
   "execution_count": 7,
   "id": "51b0917f-976a-4b78-a985-fc5d71e8cb92",
   "metadata": {},
   "outputs": [
    {
     "data": {
      "text/plain": [
       "[<matplotlib.lines.Line2D at 0x7f40eb1d8cd0>]"
      ]
     },
     "execution_count": 7,
     "metadata": {},
     "output_type": "execute_result"
    },
    {
     "data": {
      "image/png": "[encoded data removed]",
      "text/plain": [
       "<Figure size 432x288 with 1 Axes>"
      ]
     },
     "metadata": {
      "needs_background": "light"
     },
     "output_type": "display_data"
    }
   ],
   "source": [
    "x=np.linspace(x1,x2,100)\n",
    "sol=Analytical(x)\n",
    "\n",
    "plt.plot(x,sol,label='analytical')\n",
    "plt.plot(mymesh.nodecoords,phi,'*',label='numerical')"
   ]
  },
  {
   "cell_type": "code",
   "execution_count": 8,
   "id": "dddc3e36-01f1-4565-8101-bd0eb1c4735a",
   "metadata": {},
   "outputs": [
    {
     "name": "stdout",
     "output_type": "stream",
     "text": [
      "L2 error is: 1.66533e-15\n"
     ]
    }
   ],
   "source": [
    "sum=0.0\n",
    "for i in range(nDofs):\n",
    "    sum+=(phi[i]-Analytical(mymesh.nodecoords[i]))**2\n",
    "\n",
    "print('L2 error is: %g'%(np.sqrt(sum)))"
   ]
  },
  {
   "cell_type": "code",
   "execution_count": 9,
   "id": "2c809f0b-6821-4ff8-a515-6f100f7ce407",
   "metadata": {},
   "outputs": [
    {
     "data": {
      "image/png": "[encoded data removed]",
      "text/plain": [
       "<Figure size 432x288 with 1 Axes>"
      ]
     },
     "metadata": {
      "needs_background": "light"
     },
     "output_type": "display_data"
    },
    {
     "data": {
      "image/png": "[encoded data removed]",
      "text/plain": [
       "<Figure size 432x288 with 2 Axes>"
      ]
     },
     "metadata": {
      "needs_background": "light"
     },
     "output_type": "display_data"
    }
   ],
   "source": [
    "from FEToy.mesh.lagrange2dmesh import mesh2d\n",
    "from FEToy.fe.gaussrule import gausspoint2d\n",
    "from FEToy.fe.shapefun import shape2d\n",
    "from FEToy.postprocess.PlotResult import Plot2D\n",
    "\n",
    "mymesh=mesh2d(nx=5,ny=5,meshtype='quad4')\n",
    "mymesh.createmesh()\n",
    "mymesh.plotmesh()\n",
    "\n",
    "gpoints=gausspoint2d(ngp=2)\n",
    "gpoints.creategausspoint()\n",
    "\n",
    "shp=shape2d(meshtype='quad4')\n",
    "shp.update()\n",
    "\n",
    "nDofs=mymesh.nodes*1\n",
    "K=np.zeros((nDofs,nDofs))\n",
    "F=np.zeros(nDofs)\n",
    "\n",
    "# element loop\n",
    "for e in range(mymesh.elements):\n",
    "    elconn=mymesh.elementconn[e,:]\n",
    "    nodes=mymesh.nodecoords[elconn,:]\n",
    "    # do integration\n",
    "    for gp in range(gpoints.ngp2):\n",
    "        xi =gpoints.gpcoords[gp,1]\n",
    "        eta=gpoints.gpcoords[gp,2]\n",
    "        w  =gpoints.gpcoords[gp,0]\n",
    "        \n",
    "        shp_val,shp_grad,j=shp.calc(xi,eta,nodes[:,0],nodes[:,1]) # xi,eta,x,y\n",
    "        JxW=j*w\n",
    "        for i in range(mymesh.nodesperelement):\n",
    "            iInd=elconn[i]\n",
    "            F[iInd]+=f*shp_val[i]*JxW\n",
    "            for j in range(mymesh.nodesperelement):\n",
    "                jInd=elconn[j]\n",
    "                K[iInd,jInd]+=(shp_grad[j,0]*shp_grad[i,0]+shp_grad[j,1]*shp_grad[i,1])*JxW\n",
    "####\n",
    "# Appyl boundary conditions\n",
    "iInd=mymesh.bcnodeids['left']\n",
    "K[iInd,iInd]+=1.0e16\n",
    "F[iInd]+=y1*1.0e16\n",
    "\n",
    "iInd=mymesh.bcnodeids['right']\n",
    "K[iInd,iInd]+=1.0e16\n",
    "F[iInd]+=y2*1.0e16\n",
    "\n",
    "#iInd=mymesh.bcnodeids['bottom']\n",
    "#K[iInd,iInd]+=1.0e16\n",
    "#F[iInd]+=y2*1.0e16\n",
    "\n",
    "#iInd=mymesh.bcnodeids['top']\n",
    "#K[iInd,iInd]+=1.0e16\n",
    "#F[iInd]+=y2*1.0e16\n",
    "\n",
    "### solve the equaiton\n",
    "phi=np.linalg.solve(K,F)\n",
    "\n",
    "### plot result\n",
    "Plot2D.Contour2D(mymesh.nodecoords[:,0],mymesh.nodecoords[:,1],phi)"
   ]
  }
 ],
 "metadata": {
  "kernelspec": {
   "display_name": "Python 3 (ipykernel)",
   "language": "python",
   "name": "python3"
  },
  "language_info": {
   "codemirror_mode": {
    "name": "ipython",
    "version": 3
   },
   "file_extension": ".py",
   "mimetype": "text/x-python",
   "name": "python",
   "nbconvert_exporter": "python",
   "pygments_lexer": "ipython3",
   "version": "3.9.7"
  }
 },
 "nbformat": 4,
 "nbformat_minor": 5
}
