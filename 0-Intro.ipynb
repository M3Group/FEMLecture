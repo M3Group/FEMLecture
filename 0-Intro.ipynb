{
 "cells": [
  {
   "cell_type": "markdown",
   "id": "0af4e1b0-f590-44cf-8798-f9bcdb3243f5",
   "metadata": {},
   "source": [
    "This is our first lecture for the introduction of finite element mesh in 1d and 2d.\n",
    "\n",
    "- [x] mesh1d\n",
    "- [x] mesh2d\n",
    "- [x] order\n",
    "\n",
    "Author: Yang Bai\n",
    "Date  : 2021.12.19"
   ]
  },
  {
   "cell_type": "code",
   "execution_count": 2,
   "id": "177b7b73-43ac-4e29-b7c3-3b0fb3cce025",
   "metadata": {},
   "outputs": [],
   "source": [
    "from FEToy.mesh.lagrange1dmesh import mesh1d # before we create the mesh, you must import mesh1d"
   ]
  },
  {
   "cell_type": "code",
   "execution_count": 13,
   "id": "263c7b64-034c-48c5-a4be-ebbc35f1d736",
   "metadata": {},
   "outputs": [
    {
     "name": "stdout",
     "output_type": "stream",
     "text": [
      "*** node coordinates of the mesh (total nodes=6, nodes per element=2)\n",
      "     1-th node: x=  0.000000e+00\n",
      "     2-th node: x=  2.000000e-01\n",
      "     3-th node: x=  4.000000e-01\n",
      "     4-th node: x=  6.000000e-01\n",
      "     5-th node: x=  8.000000e-01\n",
      "     6-th node: x=  1.000000e+00\n",
      "*** element connectivity information(bulk elements=5)\n",
      "     1-th element    1     2 \n",
      "     2-th element    2     3 \n",
      "     3-th element    3     4 \n",
      "     4-th element    4     5 \n",
      "     5-th element    5     6 \n"
     ]
    },
    {
     "data": {
      "image/png": "[encoded data removed]",
      "text/plain": [
       "<Figure size 432x288 with 1 Axes>"
      ]
     },
     "metadata": {
      "needs_background": "light"
     },
     "output_type": "display_data"
    }
   ],
   "source": [
    "mymesh=mesh1d()\n",
    "mymesh.createmesh()\n",
    "mymesh.plotmesh(withnode=True,withnodeid=True)\n",
    "mymesh.printnodes() # print out all node's coordinates\n",
    "mymesh.printelements() # print out all elements' connectivity"
   ]
  },
  {
   "cell_type": "code",
   "execution_count": 28,
   "id": "a627c757-250f-47bc-8849-5554aec512e0",
   "metadata": {},
   "outputs": [
    {
     "name": "stdout",
     "output_type": "stream",
     "text": [
      "*** node coordinates of the mesh (total nodes=21, nodes per element=3)\n",
      "     1-th node: x= -1.000000e+00\n",
      "     2-th node: x= -7.000000e-01\n",
      "     3-th node: x= -4.000000e-01\n",
      "     4-th node: x= -1.000000e-01\n",
      "     5-th node: x=  2.000000e-01\n",
      "     6-th node: x=  5.000000e-01\n",
      "     7-th node: x=  8.000000e-01\n",
      "     8-th node: x=  1.100000e+00\n",
      "     9-th node: x=  1.400000e+00\n",
      "    10-th node: x=  1.700000e+00\n",
      "    11-th node: x=  2.000000e+00\n",
      "    12-th node: x=  2.300000e+00\n",
      "    13-th node: x=  2.600000e+00\n",
      "    14-th node: x=  2.900000e+00\n",
      "    15-th node: x=  3.200000e+00\n",
      "    16-th node: x=  3.500000e+00\n",
      "    17-th node: x=  3.800000e+00\n",
      "    18-th node: x=  4.100000e+00\n",
      "    19-th node: x=  4.400000e+00\n",
      "    20-th node: x=  4.700000e+00\n",
      "    21-th node: x=  5.000000e+00\n",
      "*** element connectivity information(bulk elements=10)\n",
      "     1-th element    1     2     3 \n",
      "     2-th element    3     4     5 \n",
      "     3-th element    5     6     7 \n",
      "     4-th element    7     8     9 \n",
      "     5-th element    9    10    11 \n",
      "     6-th element   11    12    13 \n",
      "     7-th element   13    14    15 \n",
      "     8-th element   15    16    17 \n",
      "     9-th element   17    18    19 \n",
      "    10-th element   19    20    21 \n"
     ]
    },
    {
     "data": {
      "image/png": "[encoded data removed]",
      "text/plain": [
       "<Figure size 432x288 with 1 Axes>"
      ]
     },
     "metadata": {
      "needs_background": "light"
     },
     "output_type": "display_data"
    }
   ],
   "source": [
    "mymesh.setnx(10)\n",
    "mymesh.setmeshtype('edge3') # set to 2nd order\n",
    "mymesh.update()\n",
    "mymesh.plotmesh(withnode=True,withnodeid=True)\n",
    "mymesh.printnodes() # print out all node's coordinates\n",
    "mymesh.printelements() # print out all elements' connectivity"
   ]
  },
  {
   "cell_type": "markdown",
   "id": "fac40411-c7e2-42b3-8a86-d32240ffa529",
   "metadata": {},
   "source": [
    "The order of node index depends your implement, here, we use: 1->2, 1->2->3, 1->2->3->4\n",
    "In other code, it may look like: 1->2 (linear), 1->3->2 (2nd), 1->3->4->2 (3rd)"
   ]
  },
  {
   "cell_type": "code",
   "execution_count": 17,
   "id": "9eaa986c-ead2-4ad7-bfcb-5193decbea1a",
   "metadata": {},
   "outputs": [
    {
     "name": "stdout",
     "output_type": "stream",
     "text": [
      "*** node coordinates of the mesh (total nodes=31, nodes per element=4)\n",
      "     1-th node: x= -1.000000e+00\n",
      "     2-th node: x= -8.000000e-01\n",
      "     3-th node: x= -6.000000e-01\n",
      "     4-th node: x= -4.000000e-01\n",
      "     5-th node: x= -2.000000e-01\n",
      "     6-th node: x=  0.000000e+00\n",
      "     7-th node: x=  2.000000e-01\n",
      "     8-th node: x=  4.000000e-01\n",
      "     9-th node: x=  6.000000e-01\n",
      "    10-th node: x=  8.000000e-01\n",
      "    11-th node: x=  1.000000e+00\n",
      "    12-th node: x=  1.200000e+00\n",
      "    13-th node: x=  1.400000e+00\n",
      "    14-th node: x=  1.600000e+00\n",
      "    15-th node: x=  1.800000e+00\n",
      "    16-th node: x=  2.000000e+00\n",
      "    17-th node: x=  2.200000e+00\n",
      "    18-th node: x=  2.400000e+00\n",
      "    19-th node: x=  2.600000e+00\n",
      "    20-th node: x=  2.800000e+00\n",
      "    21-th node: x=  3.000000e+00\n",
      "    22-th node: x=  3.200000e+00\n",
      "    23-th node: x=  3.400000e+00\n",
      "    24-th node: x=  3.600000e+00\n",
      "    25-th node: x=  3.800000e+00\n",
      "    26-th node: x=  4.000000e+00\n",
      "    27-th node: x=  4.200000e+00\n",
      "    28-th node: x=  4.400000e+00\n",
      "    29-th node: x=  4.600000e+00\n",
      "    30-th node: x=  4.800000e+00\n",
      "    31-th node: x=  5.000000e+00\n",
      "*** element connectivity information(bulk elements=10)\n",
      "     1-th element    1     2     3     4 \n",
      "     2-th element    4     5     6     7 \n",
      "     3-th element    7     8     9    10 \n",
      "     4-th element   10    11    12    13 \n",
      "     5-th element   13    14    15    16 \n",
      "     6-th element   16    17    18    19 \n",
      "     7-th element   19    20    21    22 \n",
      "     8-th element   22    23    24    25 \n",
      "     9-th element   25    26    27    28 \n",
      "    10-th element   28    29    30    31 \n"
     ]
    },
    {
     "data": {
      "image/png": "[encoded data removed]",
      "text/plain": [
       "<Figure size 432x288 with 1 Axes>"
      ]
     },
     "metadata": {
      "needs_background": "light"
     },
     "output_type": "display_data"
    }
   ],
   "source": [
    "mymesh.setmeshtype('edge4') # default option is edge2, you can choose edge2~edge4\n",
    "mymesh.setdomainsize(xmin=-1.0,xmax=5.0)\n",
    "mymesh.update()\n",
    "mymesh.plotmesh(withnode=True,withnodeid=True)\n",
    "mymesh.printnodes() # print out all node's coordinates\n",
    "mymesh.printelements() # print out all elements' connectivity"
   ]
  },
  {
   "cell_type": "markdown",
   "id": "d84242a3-c88e-4a04-b482-c777aec3504a",
   "metadata": {},
   "source": [
    "Now, lets try the 2d mesh case.\n",
    "Before we run the code, you must import mesh2d"
   ]
  },
  {
   "cell_type": "code",
   "execution_count": 18,
   "id": "c37fc2fb-ccc8-4eea-90d3-f2473ba81ef9",
   "metadata": {},
   "outputs": [],
   "source": [
    "from FEToy.mesh.lagrange2dmesh import mesh2d"
   ]
  },
  {
   "cell_type": "code",
   "execution_count": 20,
   "id": "7420d43a-bfe5-4bc6-9726-d319811991c4",
   "metadata": {},
   "outputs": [
    {
     "name": "stdout",
     "output_type": "stream",
     "text": [
      "*** node coordinates of the mesh (total nodes=9, nodes per element=4)\n",
      "     1-th node: x=  0.000000e+00,y=  0.000000e+00\n",
      "     2-th node: x=  1.000000e+00,y=  0.000000e+00\n",
      "     3-th node: x=  2.000000e+00,y=  0.000000e+00\n",
      "     4-th node: x=  0.000000e+00,y=  1.000000e+00\n",
      "     5-th node: x=  1.000000e+00,y=  1.000000e+00\n",
      "     6-th node: x=  2.000000e+00,y=  1.000000e+00\n",
      "     7-th node: x=  0.000000e+00,y=  2.000000e+00\n",
      "     8-th node: x=  1.000000e+00,y=  2.000000e+00\n",
      "     9-th node: x=  2.000000e+00,y=  2.000000e+00\n",
      "*** element connectivity information(bulk elements=4)\n",
      "     1-th element :    0     1     4     3 \n",
      "     2-th element :    1     2     5     4 \n",
      "     3-th element :    3     4     7     6 \n",
      "     4-th element :    4     5     8     7 \n"
     ]
    }
   ],
   "source": [
    "mynewmesh=mesh2d(nx=2,ny=2,meshtype='quad4') # order=1\n",
    "mynewmesh.createmesh()\n",
    "mynewmesh.printnodes()\n",
    "mynewmesh.printelements()"
   ]
  },
  {
   "cell_type": "code",
   "execution_count": 23,
   "id": "6821fba6-73df-4b9f-bedf-501b83a95de6",
   "metadata": {},
   "outputs": [
    {
     "data": {
      "image/png": "[encoded data removed]",
      "text/plain": [
       "<Figure size 432x288 with 1 Axes>"
      ]
     },
     "metadata": {
      "needs_background": "light"
     },
     "output_type": "display_data"
    }
   ],
   "source": [
    "mynewmesh.plotmesh(withnode=True,withnodeid=True)"
   ]
  },
  {
   "cell_type": "code",
   "execution_count": 24,
   "id": "dce8a39f-41dd-423e-8fcc-d93f2b072eb2",
   "metadata": {},
   "outputs": [
    {
     "name": "stdout",
     "output_type": "stream",
     "text": [
      "*** node coordinates of the mesh (total nodes=25, nodes per element=9)\n",
      "     1-th node: x=  0.000000e+00,y=  0.000000e+00\n",
      "     2-th node: x=  2.500000e-01,y=  0.000000e+00\n",
      "     3-th node: x=  5.000000e-01,y=  0.000000e+00\n",
      "     4-th node: x=  7.500000e-01,y=  0.000000e+00\n",
      "     5-th node: x=  1.000000e+00,y=  0.000000e+00\n",
      "     6-th node: x=  0.000000e+00,y=  2.500000e-01\n",
      "     7-th node: x=  2.500000e-01,y=  2.500000e-01\n",
      "     8-th node: x=  5.000000e-01,y=  2.500000e-01\n",
      "     9-th node: x=  7.500000e-01,y=  2.500000e-01\n",
      "    10-th node: x=  1.000000e+00,y=  2.500000e-01\n",
      "    11-th node: x=  0.000000e+00,y=  5.000000e-01\n",
      "    12-th node: x=  2.500000e-01,y=  5.000000e-01\n",
      "    13-th node: x=  5.000000e-01,y=  5.000000e-01\n",
      "    14-th node: x=  7.500000e-01,y=  5.000000e-01\n",
      "    15-th node: x=  1.000000e+00,y=  5.000000e-01\n",
      "    16-th node: x=  0.000000e+00,y=  7.500000e-01\n",
      "    17-th node: x=  2.500000e-01,y=  7.500000e-01\n",
      "    18-th node: x=  5.000000e-01,y=  7.500000e-01\n",
      "    19-th node: x=  7.500000e-01,y=  7.500000e-01\n",
      "    20-th node: x=  1.000000e+00,y=  7.500000e-01\n",
      "    21-th node: x=  0.000000e+00,y=  1.000000e+00\n",
      "    22-th node: x=  2.500000e-01,y=  1.000000e+00\n",
      "    23-th node: x=  5.000000e-01,y=  1.000000e+00\n",
      "    24-th node: x=  7.500000e-01,y=  1.000000e+00\n",
      "    25-th node: x=  1.000000e+00,y=  1.000000e+00\n",
      "*** element connectivity information(bulk elements=4)\n",
      "     1-th element :    0     2    12    10     1     7    11     5     6 \n",
      "     2-th element :    2     4    14    12     3     9    13     7     8 \n",
      "     3-th element :   10    12    22    20    11    17    21    15    16 \n",
      "     4-th element :   12    14    24    22    13    19    23    17    18 \n"
     ]
    },
    {
     "data": {
      "image/png": "[encoded data removed]",
      "text/plain": [
       "<Figure size 432x288 with 1 Axes>"
      ]
     },
     "metadata": {
      "needs_background": "light"
     },
     "output_type": "display_data"
    }
   ],
   "source": [
    "mynewmesh.setmeshtype('quad9') # set the current mesh to 2nd order\n",
    "mynewmesh.update()\n",
    "mynewmesh.printnodes()\n",
    "mynewmesh.printelements()\n",
    "mynewmesh.plotmesh(withnode=True,withnodeid=True)"
   ]
  },
  {
   "cell_type": "code",
   "execution_count": 27,
   "id": "e0e09b2b-afb7-466e-9e5a-591f6c1289ee",
   "metadata": {},
   "outputs": [
    {
     "data": {
      "image/png": "[encoded data removed]",
      "text/plain": [
       "<Figure size 432x288 with 1 Axes>"
      ]
     },
     "metadata": {
      "needs_background": "light"
     },
     "output_type": "display_data"
    }
   ],
   "source": [
    "mynewmesh.setnx(5) # now, it is 5x2 mesh\n",
    "mynewmesh.setny(10)\n",
    "mynewmesh.setdomainsize(xmin=-1,xmax=1,ymin=-2,ymax=2)\n",
    "mynewmesh.update()\n",
    "mynewmesh.plotmesh(withnode=True)"
   ]
  },
  {
   "cell_type": "code",
   "execution_count": null,
   "id": "c3ac4b2b-027a-4e25-a044-6db5335a6dcf",
   "metadata": {},
   "outputs": [],
   "source": []
  }
 ],
 "metadata": {
  "kernelspec": {
   "display_name": "Python 3 (ipykernel)",
   "language": "python",
   "name": "python3"
  },
  "language_info": {
   "codemirror_mode": {
    "name": "ipython",
    "version": 3
   },
   "file_extension": ".py",
   "mimetype": "text/x-python",
   "name": "python",
   "nbconvert_exporter": "python",
   "pygments_lexer": "ipython3",
   "version": "3.9.7"
  }
 },
 "nbformat": 4,
 "nbformat_minor": 5
}
