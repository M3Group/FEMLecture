{
 "cells": [
  {
   "cell_type": "markdown",
   "id": "6a448c6f-130f-46e9-9f21-8eb99849b59d",
   "metadata": {},
   "source": [
    "# Your first mechanics solver- linear elasticity analysis\n",
    "\n",
    "- [x] stress/strain\n",
    "- [x] constitutive law\n",
    "- [x] projection\n",
    "- [x] loading\n",
    "- [x] 1d/2d stress equilibirium equation\n",
    "\n",
    "Author: Yang Bai @ M3 Group\n",
    "\n",
    "Date  : 2022.01.29\n",
    "\n",
    "QQ group: 628204857"
   ]
  },
  {
   "cell_type": "markdown",
   "id": "02f5732f-1a53-41d5-be74-a27f8a4089c7",
   "metadata": {},
   "source": [
    "## Stress and strain\n",
    "\n",
    "In this notebook, we focus on the small strain deformation, where the strain can\n",
    "be defined as follows:\n",
    "$$\\mathbf{\\varepsilon}=\\frac{1}{2}(\\nabla u+\\nabla^{T}u)$$\n",
    "or \n",
    "$$\\varepsilon_{ij}=\\frac{1}{2}(u_{i,j}+u_{j,i})$$\n",
    "\n",
    "Accordingly, the stress can be read as follows:\n",
    "$$\\mathbf{\\sigma}=\\mathbb{C}:\\mathbf{\\varepsilon}$$\n",
    "or\n",
    "$$\\sigma_{ij}=\\mathbb{C}_{ijkl}\\varepsilon_{kl}$$"
   ]
  },
  {
   "cell_type": "markdown",
   "id": "9c556f43-0e5c-4427-a04f-af759794fab4",
   "metadata": {},
   "source": [
    "## Constitutive laws\n",
    "\n",
    "For the linear elasticity problem, one can have the following constitutive law:\n",
    "$$\\mathbb{C}_{ijkl}=\\lambda\\delta_{ij}\\delta_{kl}+\\mu(\\delta_{ik}\\delta_{jl}+\\delta_{il}\\delta_{jk})$$\n",
    "with $\\lambda=K-\\frac{2}{3}\\mu$ and $\\mu$ being the lame constant and shear modulus, respectively. $K$ is the bulk modulus. One can also calculate $K$ and $\\mu$ by using the Youngs modulus $E$ and poisson ratio $\\nu$ as follows:\n",
    "$$K=\\frac{E}{3(1-\\nu)},\\mu=\\frac{E}{2(1+\\nu)}$$\n",
    "Then the stress can be given as follows:\n",
    "$$\\sigma=\\mathbb{C}:\\mathbf{\\varepsilon}=\\lambda\\mathrm{tr}(\\mathbf{\\varepsilon})\\mathbf{I}+2\\mu\\mathbf{\\varepsilon}=\\frac{E\\nu}{(1+\\nu)(1-2\\nu)}\\mathrm{tr}(\\mathbf{\\varepsilon})\\mathbf{I}+\\frac{E}{1+\\nu}\\mathbf{\\varepsilon}$$\n",
    "\n",
    "### Voigt notation\n",
    "By introducing the voigt notation, we can simplify the complex rank-4 tensor $\\mathbb{C}$ to the following expression:\n",
    "$$\\mathbb{C}=\\begin{bmatrix}\n",
    "C_{11} & C_{12} & C_{12} & 0 & 0 & 0 \\\\\n",
    "C_{12} & C_{11} & C_{12} & 0 & 0 & 0 \\\\\n",
    "C_{12} & C_{12} & C_{11} & 0 & 0 & 0 \\\\\n",
    "     0 &      0 &      0 & C_{44} & 0 & 0 \\\\\n",
    "     0 &      0 &      0 &      0 & C_{44} & 0 \\\\\n",
    "     0 &      0 &      0 &      0 &      0 & C_{44}\n",
    "\\end{bmatrix}\n",
    "$$\n",
    "where $C_{11}=\\lambda+\\mu$, $C_{12}=\\lambda$, $C_{44}=\\mu$.\n",
    "\n",
    "### Plane stress\n",
    "For plane stress case, one can have $\\sigma_{zz}=0$, then the \"3rd\" strain should be given as $\\varepsilon_{zz}=-\\frac{\\lambda}{\\lambda+2\\mu}(\\varepsilon_{xx}+\\varepsilon_{yy})$. The the new 'lame' constant can be defined as: $\\lambda^{*}=2\\frac{\\lambda\\mu}{\\lambda+2\\mu}$, and the correct stress can be read as: $\\sigma=\\lambda^{*}\\mathrm{tr}(\\mathbf{\\varepsilon})\\mathbf{I}+2\\mu\\mathbf{\\varepsilon}$."
   ]
  },
  {
   "cell_type": "markdown",
   "id": "d4b5fd0a-8b2e-44ab-b287-d9b9f1cb9a2e",
   "metadata": {},
   "source": [
    "# Linear elasticity in 1D case\n",
    "\n",
    "$$\\nabla\\sigma_{x}=\\nabla(E\\varepsilon_{x})=E\\frac{\\partial^{2}u_{x}}{\\partial x^{2}}=0,\\quad\\mathrm{with}~u=u_{g}~\\mathrm{on}~\\Omega_{D},~\\sigma_{x}=t_{x}~\\mathrm{on}~\\Omega_{N}$$\n",
    "\n",
    "The right hand side and jacobian are:\n",
    "$K=\\int_{\\Omega}E\\nabla N^{J}\\nabla N^{I}dV$ and $F_{int}=\\int_{\\Omega}\\sigma_{x}N^{I}_{,x}dV$"
   ]
  },
  {
   "cell_type": "code",
   "execution_count": 1,
   "id": "f490d9e2-02f4-482f-9eaa-90ba735f748c",
   "metadata": {},
   "outputs": [],
   "source": [
    "# import the necessary modulues\n",
    "from FEToy.mesh.lagrange1dmesh import mesh1d\n",
    "from FEToy.fe.gaussrule import gausspoint1d\n",
    "from FEToy.fe.shapefun import shape1d\n",
    "import numpy as np\n",
    "import matplotlib.pyplot as plt"
   ]
  },
  {
   "cell_type": "code",
   "execution_count": 2,
   "id": "5a4931b2-3ea8-46b1-9b18-976a43ab971a",
   "metadata": {},
   "outputs": [],
   "source": [
    "# define you physical parameters\n",
    "L=1.0    # length of 1d domain\n",
    "E=1.0e9  # Youngs modulus\n",
    "ug=0.05   # preset displacement\n",
    "nElmts=5"
   ]
  },
  {
   "cell_type": "code",
   "execution_count": 3,
   "id": "eb267f71-222b-45dd-bb2b-ac7d52ed8cdb",
   "metadata": {},
   "outputs": [
    {
     "data": {
      "image/png": "[encoded data removed]",
      "text/plain": [
       "<Figure size 432x288 with 1 Axes>"
      ]
     },
     "metadata": {
      "needs_background": "light"
     },
     "output_type": "display_data"
    }
   ],
   "source": [
    "mymesh=mesh1d(xmin=0.0,xmax=L,nx=nElmts,meshtype='edge2')\n",
    "mymesh.createmesh()\n",
    "mymesh.plotmesh(withnode=True,withnodeid=True)\n",
    "\n",
    "gpoints=gausspoint1d(ngp=2)\n",
    "gpoints.creategausspoint()\n",
    "\n",
    "shp=shape1d(meshtype='edge2')"
   ]
  },
  {
   "cell_type": "code",
   "execution_count": 4,
   "id": "56da232b-41dc-45a8-97ce-5173bf63d836",
   "metadata": {},
   "outputs": [
    {
     "data": {
      "text/plain": [
       "[<matplotlib.lines.Line2D at 0x7f66a009eac0>]"
      ]
     },
     "execution_count": 4,
     "metadata": {},
     "output_type": "execute_result"
    },
    {
     "data": {
      "image/png": "[encoded data removed]",
      "text/plain": [
       "<Figure size 432x288 with 1 Axes>"
      ]
     },
     "metadata": {
      "needs_background": "light"
     },
     "output_type": "display_data"
    }
   ],
   "source": [
    "nDofs=mymesh.nodes*1 # total dofs\n",
    "K=np.zeros((nDofs,nDofs))\n",
    "F=np.zeros(nDofs)\n",
    "# element loop\n",
    "for e in range(mymesh.elements):\n",
    "    elconn=mymesh.elementconn[e,:]\n",
    "    nodes=mymesh.nodecoords[elconn]\n",
    "    for gp in range(gpoints.ngp):\n",
    "        xi=gpoints.gpcoords[gp,1]\n",
    "        w =gpoints.gpcoords[gp,0]\n",
    "        shp_val,shp_grad,j=shp.calc(xi,nodes)\n",
    "        JxW=j*w\n",
    "        for i in range(mymesh.nodesperelement):\n",
    "            iInd=elconn[i]\n",
    "            for j in range(mymesh.nodesperelement):\n",
    "                jInd=elconn[j]\n",
    "                K[iInd,jInd]+=E*shp_grad[j]*shp_grad[i]*JxW\n",
    "#############################################\n",
    "### Apply boundary condition\n",
    "#############################################\n",
    "Penalty=1.0e20\n",
    "iInd=mymesh.bcnodeids['left']\n",
    "K[iInd,iInd]+=Penalty\n",
    "F[iInd]+=0.0*Penalty\n",
    "\n",
    "iInd=mymesh.bcnodeids['right']\n",
    "K[iInd,iInd]+=Penalty\n",
    "F[iInd]+=ug*Penalty\n",
    "\n",
    "u=np.linalg.solve(K,F)\n",
    "\n",
    "plt.plot(mymesh.nodecoords,u)"
   ]
  },
  {
   "cell_type": "code",
   "execution_count": 5,
   "id": "dceac43e-3cd1-4cfa-8d41-ceaa7e0726a9",
   "metadata": {},
   "outputs": [
    {
     "data": {
      "text/plain": [
       "[<matplotlib.lines.Line2D at 0x7f6694198d60>]"
      ]
     },
     "execution_count": 5,
     "metadata": {},
     "output_type": "execute_result"
    },
    {
     "data": {
      "image/png": "[encoded data removed]",
      "text/plain": [
       "<Figure size 432x288 with 1 Axes>"
      ]
     },
     "metadata": {
      "needs_background": "light"
     },
     "output_type": "display_data"
    }
   ],
   "source": [
    "# Now we project the stress from gauss points to nodal points\n",
    "Stress=np.zeros(nDofs)\n",
    "for e in range(mymesh.elements):\n",
    "    elconn=mymesh.elementconn[e,:]\n",
    "    nodes=mymesh.nodecoords[elconn]\n",
    "    elu=u[elconn]\n",
    "    stress=0.0\n",
    "    for gp in range(gpoints.ngp):\n",
    "        xi=gpoints.gpcoords[gp,1]\n",
    "        w =gpoints.gpcoords[gp,0]\n",
    "        shp_val,shp_grad,j=shp.calc(xi,nodes)\n",
    "        JxW=j*w\n",
    "        strain=0.0\n",
    "        for i in range(mymesh.nodesperelement):\n",
    "            strain+=shp_grad[i]*elu[i] # dux/dx=sum_{i}dNi/dx*uix\n",
    "        stress+=E*strain*(1.0/gpoints.ngp) # averaged stress\n",
    "    # assemble to global\n",
    "    for i in range(mymesh.nodesperelement):\n",
    "        iInd=elconn[i]\n",
    "        Stress[iInd]+=stress\n",
    "for e in range(1,mymesh.elements):\n",
    "    elconn=mymesh.elementconn[e,:]\n",
    "    Stress[elconn[0]]/=2.0\n",
    "#############\n",
    "plt.plot(mymesh.nodecoords,Stress)"
   ]
  },
  {
   "cell_type": "markdown",
   "id": "9b498c66-f185-42ec-ac57-542dbe4b6ed1",
   "metadata": {
    "tags": []
   },
   "source": [
    "# Linear elasticity in 2D case\n",
    "\n",
    "$$\\nabla\\mathbf{\\sigma}=\\mathbf{0},\\quad\\mathrm{with}~u=u_{g}~\\mathrm{on}~\\Omega_{D},~\\mathbf{\\sigma}\\cdot\\vec{n}=\\vec{t}~\\mathrm{on}~\\Omega_{N}$$\n",
    "\n",
    "The right hand side and jacobian are:\n",
    "$K_{u_{i}u_{k}}^{IJ}=\\int_{\\Omega}C_{ijkl}\\nabla N^{J}_{,l}\\nabla N^{I}_{,j}dV$ and $F_{u_{i}}^{I}=\\int_{\\partial\\Omega}t_{i}N^{I}dV$\n",
    "\n",
    "Using voigt notation, one can have:\n",
    "$$K_{u_{i}u_{k}}^{IJ}=\\int_{\\Omega}\\mathbf{B}^{T}\\mathbf{D}\\mathbf{B}dV$$\n",
    "where \n",
    "$$\\mathbf{\\varepsilon}=\\mathbf{B}\\mathbf{u}, \\mathrm{with}~\\mathbf{B}=\\begin{bmatrix}\n",
    "\\frac{\\partial N}{\\partial x} & 0\\\\\n",
    "0 & \\frac{\\partial N}{\\partial y} \\\\\n",
    "\\frac{\\partial N}{\\partial y} & \\frac{\\partial N}{\\partial x}\n",
    "\\end{bmatrix},~\\mathbf{D}=\\frac{E}{1-\\nu^{2}}\\begin{bmatrix}\n",
    "1 & \\nu & 0\\\\\n",
    "\\nu & 1 & 0\\\\\n",
    "0 & 0 & \\frac{1-\\nu}{2}\n",
    "\\end{bmatrix}\n",
    "$$"
   ]
  },
  {
   "cell_type": "code",
   "execution_count": 6,
   "id": "b2132c0c-c62e-4773-afff-8c58033b5e5c",
   "metadata": {},
   "outputs": [
    {
     "name": "stdout",
     "output_type": "stream",
     "text": [
      "write result to mech2d-000000.csv\n"
     ]
    },
    {
     "data": {
      "image/png": "[encoded data removed]",
      "text/plain": [
       "<Figure size 432x288 with 1 Axes>"
      ]
     },
     "metadata": {
      "needs_background": "light"
     },
     "output_type": "display_data"
    },
    {
     "data": {
      "image/png": "[encoded data removed]",
      "text/plain": [
       "<Figure size 432x288 with 2 Axes>"
      ]
     },
     "metadata": {
      "needs_background": "light"
     },
     "output_type": "display_data"
    },
    {
     "data": {
      "image/png": "[encoded data removed]",
      "text/plain": [
       "<Figure size 432x288 with 2 Axes>"
      ]
     },
     "metadata": {
      "needs_background": "light"
     },
     "output_type": "display_data"
    }
   ],
   "source": [
    "from FEToy.mesh.lagrange2dmesh import mesh2d\n",
    "from FEToy.fe.shapefun import shape2d\n",
    "from FEToy.fe.gaussrule import gausspoint2d\n",
    "from FEToy.postprocess.PlotResult import Plot2D\n",
    "\n",
    "####################\n",
    "### pyhsical parameters\n",
    "E=1.0e9\n",
    "nu=0.3\n",
    "\n",
    "\n",
    "mymesh=mesh2d(nx=20,ny=40,xmax=1.0,ymax=2.0,meshtype='quad4')\n",
    "mymesh.createmesh()\n",
    "mymesh.plotmesh()\n",
    "\n",
    "gpoints=gausspoint2d(ngp=2)\n",
    "gpoints.creategausspoint()\n",
    "\n",
    "shp=shape2d(meshtype='quad4')\n",
    "shp.update()\n",
    "\n",
    "nDofs=mymesh.nodes*2 # 2 dofs for each point, ux+uy\n",
    "K=np.zeros((nDofs,nDofs))\n",
    "F=np.zeros(nDofs)\n",
    "\n",
    "B=np.zeros((3,2))\n",
    "Bt=np.zeros((2,3))\n",
    "D=np.zeros((3,3))\n",
    "\n",
    "D[0,0]=E/(1-nu**2)   ;D[0,1]=E*nu/(1-nu**2)\n",
    "D[1,0]=E*nu/(1-nu**2);D[1,1]=E/(1-nu**2)\n",
    "D[2,2]=0.5*E*(1-nu)/(1-nu**2)\n",
    "\n",
    "# do element loop\n",
    "for e in range(mymesh.elements):\n",
    "    elconn=mymesh.elementconn[e,:]\n",
    "    nodes=mymesh.nodecoords[elconn,:]\n",
    "    for gp in range(gpoints.ngp2):\n",
    "        xi =gpoints.gpcoords[gp,1]\n",
    "        eta=gpoints.gpcoords[gp,2]\n",
    "        w  =gpoints.gpcoords[gp,0]\n",
    "        \n",
    "        shp_val,shp_grad,j=shp.calc(xi,eta,nodes[:,0],nodes[:,1])\n",
    "        JxW=j*w\n",
    "        for i in range(mymesh.nodesperelement):\n",
    "            B[0,0]=shp_grad[i,0]\n",
    "            B[1,1]=shp_grad[i,1]\n",
    "            B[2,0]=shp_grad[i,1]\n",
    "            B[2,1]=shp_grad[i,0]\n",
    "            iInd=elconn[i]\n",
    "            for j in range(mymesh.nodesperelement):\n",
    "                Bt[0,0]=shp_grad[j,0];Bt[0,2]=shp_grad[j,1]\n",
    "                Bt[1,1]=shp_grad[j,1];Bt[1,2]=shp_grad[j,0]\n",
    "                C=np.dot(Bt,np.dot(D,B)) # C=Bt*D*B==> 2x2 matrix\n",
    "                jInd=elconn[j]\n",
    "                # K_ux,ux\n",
    "                K[2*iInd+0,2*jInd+0]+=C[0,0]*JxW\n",
    "                # K_ux,uy\n",
    "                K[2*iInd+0,2*jInd+1]+=C[0,1]*JxW\n",
    "                # K_uy,ux\n",
    "                K[2*iInd+1,2*jInd+0]+=C[1,0]*JxW\n",
    "                # K_uy,uy\n",
    "                K[2*iInd+1,2*jInd+1]+=C[1,1]*JxW\n",
    "#########################################\n",
    "Penalty=1.0e16\n",
    "\n",
    "# fix ux=0 for bottom edge\n",
    "iInd=mymesh.bcnodeids['bottom']*2\n",
    "K[iInd,iInd]+=Penalty\n",
    "F[iInd]=0.0\n",
    "\n",
    "#print(mymesh.bcconn['left']) # for the boundary element on left edge or left side\n",
    "\n",
    "# fix uy=0 for bottom edge\n",
    "iInd=mymesh.bcnodeids['bottom']*2+1\n",
    "K[iInd,iInd]+=Penalty\n",
    "F[iInd]=0.0\n",
    "\n",
    "# apply uy=0.05 for top edge\n",
    "iInd=mymesh.bcnodeids['top']*2+1\n",
    "K[iInd,iInd]+=Penalty\n",
    "F[iInd]=0.05*Penalty\n",
    "\n",
    "disp=np.linalg.solve(K,F)\n",
    "\n",
    "Plot2D.Contour2D(mymesh,disp[0::2]) # ux\n",
    "Plot2D.Contour2D(mymesh,disp[1::2]) # uy\n",
    "\n",
    "from FEToy.postprocess.Result import ResultIO\n",
    "\n",
    "result=ResultIO('mech2d')\n",
    "\n",
    "result.save2csv(mesh=mymesh,solution=disp,varnamelist=['ux','uy'],step=0)"
   ]
  },
  {
   "cell_type": "code",
   "execution_count": 7,
   "id": "ae9017b6-13d8-4066-9109-e5a11890d515",
   "metadata": {},
   "outputs": [
    {
     "data": {
      "image/png": "[encoded data removed]",
      "text/plain": [
       "<Figure size 432x288 with 2 Axes>"
      ]
     },
     "metadata": {
      "needs_background": "light"
     },
     "output_type": "display_data"
    },
    {
     "data": {
      "image/png": "[encoded data removed]",
      "text/plain": [
       "<Figure size 432x288 with 2 Axes>"
      ]
     },
     "metadata": {
      "needs_background": "light"
     },
     "output_type": "display_data"
    },
    {
     "data": {
      "image/png": "[encoded data removed]",
      "text/plain": [
       "<Figure size 432x288 with 2 Axes>"
      ]
     },
     "metadata": {
      "needs_background": "light"
     },
     "output_type": "display_data"
    }
   ],
   "source": [
    "# Now we calculate the stress from gauss points to the nodal points\n",
    "NodeCount=np.zeros(mymesh.nodes) # for nodal smooth\n",
    "Stress_yy=np.zeros(mymesh.nodes)\n",
    "Strain_yy=np.zeros(mymesh.nodes)\n",
    "vonMises=np.zeros(mymesh.nodes)\n",
    "devstress=np.zeros(3)\n",
    "elu=np.zeros((mymesh.nodesperelement,2))\n",
    "# do element loop\n",
    "for e in range(mymesh.elements):\n",
    "    elconn=mymesh.elementconn[e,:]\n",
    "    x=mymesh.nodecoords[elconn,0]\n",
    "    y=mymesh.nodecoords[elconn,1]\n",
    "    for i in range(mymesh.nodesperelement):\n",
    "        elu[i,0]=disp[2*elconn[i]]   # ux in first columne\n",
    "        elu[i,1]=disp[2*elconn[i]+1] # uy in second col\n",
    "    gpstress_yy=0.0\n",
    "    gpstrain_yy=0.0\n",
    "    gpvonMises=0.0\n",
    "    for gp in range(gpoints.ngp2):\n",
    "        xi =gpoints.gpcoords[gp,1]\n",
    "        eta=gpoints.gpcoords[gp,2]\n",
    "        w  =gpoints.gpcoords[gp,0]\n",
    "        shp_val,shp_grad,j=shp.calc(xi,eta,x,y)\n",
    "        stress_yy=0.0\n",
    "        strain_yy=0.0\n",
    "        vonstress=0.0\n",
    "        for i in range(mymesh.nodesperelement):\n",
    "            B[0,0]=shp_grad[i,0]\n",
    "            B[1,1]=shp_grad[i,1]\n",
    "            B[2,0]=shp_grad[i,1]\n",
    "            B[2,1]=shp_grad[i,0]\n",
    "            strain=np.dot(B,elu[i,:])\n",
    "            stress=np.dot(D,strain)\n",
    "            tr=stress[0]+stress[1] # trace of stress\n",
    "            devstress[0]=stress[0]-(1.0/3.0)*tr*1.0\n",
    "            devstress[1]=stress[1]-(1.0/3.0)*tr*1.0\n",
    "            devstress[2]=stress[2]\n",
    "            \n",
    "            # vonMises=sqrt(1.5*s:s), devStress=stress-(1/3)*trace(stress)*I\n",
    "            # s:s=dev_xx*dev_xx+dev_xy*dev_xy+dev_yy*dev_yy+dev_yx*dev_yx\n",
    "            vonstress+=np.sqrt(1.5*(devstress[0]**2+devstress[1]**2+2*devstress[2]**2))\n",
    "            stress_yy+=stress[1]\n",
    "            strain_yy+=strain[1]\n",
    "            \n",
    "        # average all the gauss quantities\n",
    "        gpstress_yy+=stress_yy/gpoints.ngp2\n",
    "        gpstrain_yy+=strain_yy/gpoints.ngp2\n",
    "        gpvonMises +=vonstress/gpoints.ngp2\n",
    "    for i in range(mymesh.nodesperelement):\n",
    "        # assemble\n",
    "        iInd=elconn[i] # global index\n",
    "        vonMises[iInd]+=gpvonMises\n",
    "        Stress_yy[iInd]+=gpstress_yy\n",
    "        Strain_yy[iInd]+=gpstrain_yy\n",
    "            \n",
    "        NodeCount[iInd]+=1.0\n",
    "######################\n",
    "for i in range(mymesh.nodes):\n",
    "    vonMises[i]/=NodeCount[i]\n",
    "    Stress_yy[i]/=NodeCount[i]\n",
    "    Strain_yy[i]/=NodeCount[i]\n",
    "\n",
    "#Plot2D.Contour2D(mymesh,vonMises)\n",
    "Plot2D.Contour2DDeform(mymesh,disp,vonMises)\n",
    "Plot2D.Contour2DDeform(mymesh,disp,Stress_yy)\n",
    "Plot2D.Contour2DDeform(mymesh,disp,Strain_yy)"
   ]
  }
 ],
 "metadata": {
  "kernelspec": {
   "display_name": "Python 3 (ipykernel)",
   "language": "python",
   "name": "python3"
  },
  "language_info": {
   "codemirror_mode": {
    "name": "ipython",
    "version": 3
   },
   "file_extension": ".py",
   "mimetype": "text/x-python",
   "name": "python",
   "nbconvert_exporter": "python",
   "pygments_lexer": "ipython3",
   "version": "3.9.12"
  }
 },
 "nbformat": 4,
 "nbformat_minor": 5
}
