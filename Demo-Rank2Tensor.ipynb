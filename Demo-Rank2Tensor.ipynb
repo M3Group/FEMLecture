{
 "cells": [
  {
   "cell_type": "markdown",
   "id": "d4d0e451-bf79-4b09-a28c-ee03b20665e8",
   "metadata": {},
   "source": [
    "# Demo notebook for tensor manipulation\n",
    "\n",
    "- [x] standard operators between tensor/vector and tensor/scalar\n",
    "\n",
    "\n",
    "Author: Yang Bai @ M3 Group\n",
    "\n",
    "Date  : 2022.07.30\n",
    "\n",
    "QQ group: 628204857"
   ]
  },
  {
   "cell_type": "code",
   "execution_count": 1,
   "id": "1cc93fce-f73f-40c6-9958-245c60a33e04",
   "metadata": {},
   "outputs": [],
   "source": [
    "# before we start, we need to import the vector/tensor class\n",
    "from FEToy.mathutils.vector import vector\n",
    "from FEToy.mathutils.tensor import rank2tensor"
   ]
  },
  {
   "cell_type": "markdown",
   "id": "33c45150-9e5a-45a8-8326-10d7772d5e2a",
   "metadata": {},
   "source": [
    "## $+$ operator\n",
    "\n",
    "$+$ operator can be used for the calculation in $\\mathbf{A}+\\mathbf{B}$ and $\\mathbf{A}+b$\n",
    "\n",
    "where\n",
    "\n",
    "$\\mathbf{A}+\\mathbf{B}=\\mathbf{C},\\mathrm{with}~C_{ij}=A_{ij}+B_{ij}$\n",
    "\n",
    "and\n",
    "\n",
    "$\\mathbf{A}+b=\\mathbf{C},\\mathrm{with}~C_{ij}=A_{ij}+b$"
   ]
  },
  {
   "cell_type": "code",
   "execution_count": 7,
   "id": "fc8be95c-7e12-466b-a594-47bcb6830334",
   "metadata": {},
   "outputs": [
    {
     "name": "stdout",
     "output_type": "stream",
     "text": [
      "tensor a, tensor components are: \n",
      "  |   0.00000e+00,    0.00000e+00    0.00000e+00|\n",
      "  |   0.00000e+00,    0.00000e+00    0.00000e+00|\n",
      "  |   0.00000e+00,    0.00000e+00    0.00000e+00|\n",
      "tensor a set to random, tensor components are: \n",
      "  |   8.21661e-01,    1.45697e-01    8.61283e-01|\n",
      "  |   7.26508e-01,    6.99656e-01    3.80291e-01|\n",
      "  |   9.32837e-01,    7.22606e-01    3.63220e-01|\n",
      "tensor b, tensor components are: \n",
      "  |   1.00000e+00,    0.00000e+00    0.00000e+00|\n",
      "  |   0.00000e+00,    1.00000e+00    0.00000e+00|\n",
      "  |   0.00000e+00,    0.00000e+00    1.00000e+00|\n",
      "(   1.82166e+00,    1.45697e-01,    8.61283e-01)\n",
      "(   7.26508e-01,    1.69966e+00,    3.80291e-01)\n",
      "(   9.32837e-01,    7.22606e-01,    1.36322e+00)\n",
      "1.8216613759021827\n",
      "0.7226058715106245\n",
      "tensor a(2d), tensor components are: \n",
      "  |   9.92847e-01,    5.50016e-01|\n",
      "  |   3.31175e-01,    1.71914e-01|\n",
      "tensor b(2d), tensor components are: \n",
      "  |   1.00000e+00,    0.00000e+00|\n",
      "  |   0.00000e+00,    1.00000e+00|\n",
      "tensor a+b(2d), tensor components are: \n",
      "  |   1.99285e+00,    5.50016e-01|\n",
      "  |   3.31175e-01,    1.17191e+00|\n"
     ]
    }
   ],
   "source": [
    "tensor_a = rank2tensor(dim=3)\n",
    "tensor_a.print('tensor a')\n",
    "tensor_a.setToRandom()\n",
    "tensor_a.print('tensor a set to random')\n",
    "\n",
    "tensor_b = rank2tensor(dim=3,value=0.0)\n",
    "tensor_b.setToIdentity()\n",
    "tensor_b.print('tensor b')\n",
    "\n",
    "\n",
    "tensor_c = tensor_a+tensor_b\n",
    "print(tensor_c)\n",
    "print(tensor_c[0,0])\n",
    "print(tensor_c[2,1])\n",
    "\n",
    "tensor_a_2d =rank2tensor(dim=2)\n",
    "tensor_a_2d.setToRandom()\n",
    "tensor_a_2d.print('tensor a(2d)')\n",
    "\n",
    "tensor_b_2d=rank2tensor(dim=2)\n",
    "tensor_b_2d.setToIdentity()\n",
    "tensor_b_2d.print('tensor b(2d)')\n",
    "\n",
    "(tensor_a_2d+tensor_b_2d).print('tensor a+b(2d)')\n"
   ]
  },
  {
   "cell_type": "markdown",
   "id": "4fbaa859-8ff2-44a5-8c2b-a24ec8fbe8ea",
   "metadata": {},
   "source": [
    "## $-$ operator\n",
    "\n",
    "$-$ operator can be used for the calculation in $\\mathbf{A}-\\mathbf{B}$ and $\\mathbf{A}-b$\n",
    "\n",
    "where\n",
    "\n",
    "$\\mathbf{A}-\\mathbf{B}=\\mathbf{C},\\mathrm{with}~C_{ij}=A_{ij}-B_{ij}$\n",
    "\n",
    "and\n",
    "\n",
    "$\\mathbf{A}-b=\\mathbf{C},\\mathrm{with}~C_{ij}=A_{ij}-b$"
   ]
  },
  {
   "cell_type": "code",
   "execution_count": 3,
   "id": "398f1f27-552a-4f02-b326-1a9cedbe193d",
   "metadata": {},
   "outputs": [
    {
     "name": "stdout",
     "output_type": "stream",
     "text": [
      "(   8.38167e-01,    8.71844e-01,    8.41737e-01)\n",
      "(   1.26277e-01,    3.50664e-01,    4.43467e-02)\n",
      "(   8.00416e-01,    2.62125e-01,    5.91497e-01)\n",
      "-------------------------------------\n",
      "(   1.00000e+00,    0.00000e+00,    0.00000e+00)\n",
      "(   0.00000e+00,    1.00000e+00,    0.00000e+00)\n",
      "(   0.00000e+00,    0.00000e+00,    1.00000e+00)\n",
      "-------------------------------------\n",
      "(  -1.61833e-01,    8.71844e-01,    8.41737e-01)\n",
      "(   1.26277e-01,   -6.49336e-01,    4.43467e-02)\n",
      "(   8.00416e-01,    2.62125e-01,   -4.08503e-01)\n",
      "-------------------------------------\n",
      "(  -2.16183e+00,   -1.12816e+00,   -1.15826e+00)\n",
      "(  -1.87372e+00,   -2.64934e+00,   -1.95565e+00)\n",
      "(  -1.19958e+00,   -1.73788e+00,   -2.40850e+00)\n",
      "-------------------------------------\n"
     ]
    }
   ],
   "source": [
    "tensor_c = tensor_a-tensor_b\n",
    "\n",
    "print(tensor_a)\n",
    "print('-------------------------------------')\n",
    "\n",
    "print(tensor_b)\n",
    "print('-------------------------------------')\n",
    "\n",
    "print(tensor_c)\n",
    "print('-------------------------------------')\n",
    "\n",
    "tensor_d = tensor_c-2.0\n",
    "print(tensor_d)\n",
    "print('-------------------------------------')"
   ]
  },
  {
   "cell_type": "markdown",
   "id": "95a5b74f-7f30-4e74-9fe1-46739aafb389",
   "metadata": {},
   "source": [
    "## $*$ operator\n",
    "\n",
    "$*$ operator can be used for the calculation in $\\mathbf{A}*\\vec{b}$ and $\\mathbf{A}*b$\n",
    "\n",
    "where\n",
    "\n",
    "$\\mathbf{A}\\cdot\\vec{b}=\\vec{c},\\mathrm{with}~c_{i}=\\sum_{j}a_{ij}b_{j}$\n",
    "\n",
    "and\n",
    "\n",
    "$\\mathbf{A}\\cdot b=\\mathbf{C},\\mathrm{with}~C_{ij}=A_{ij}*b$"
   ]
  },
  {
   "cell_type": "code",
   "execution_count": 4,
   "id": "6d372727-c4b9-4e63-ad43-980b9de40264",
   "metadata": {},
   "outputs": [
    {
     "name": "stdout",
     "output_type": "stream",
     "text": [
      "Vector a is:\n",
      "(   1.00000e+00,    1.00000e+00,    1.00000e+00)\n",
      "-------------------------------------\n",
      "Tensor D is:\n",
      "(  -2.16183e+00,   -1.12816e+00,   -1.15826e+00)\n",
      "(  -1.87372e+00,   -2.64934e+00,   -1.95565e+00)\n",
      "(  -1.19958e+00,   -1.73788e+00,   -2.40850e+00)\n",
      "-------------------------------------\n",
      "Tensor D* Vector b result:\n",
      "(  -4.44825e+00,   -6.47871e+00,   -5.34596e+00)\n",
      "-------------------------------------\n",
      "Tensor D* 5.0 result:\n",
      "(  -1.08092e+01,   -5.64078e+00,   -5.79132e+00)\n",
      "(  -9.36862e+00,   -1.32467e+01,   -9.77827e+00)\n",
      "(  -5.99792e+00,   -8.68938e+00,   -1.20425e+01)\n",
      "-------------------------------------\n"
     ]
    }
   ],
   "source": [
    "vec_a = vector(3,1.0)\n",
    "\n",
    "print('Vector a is:')\n",
    "print(vec_a)\n",
    "print('-------------------------------------')\n",
    "\n",
    "print('Tensor D is:')\n",
    "print(tensor_d)\n",
    "print('-------------------------------------')\n",
    "\n",
    "\n",
    "print('Tensor D* Vector b result:')\n",
    "vec_b = tensor_d*vec_a\n",
    "print(vec_b)\n",
    "print('-------------------------------------')\n",
    "\n",
    "\n",
    "print('Tensor D* 5.0 result:')\n",
    "print(tensor_d*5.0)\n",
    "print('-------------------------------------')"
   ]
  },
  {
   "cell_type": "markdown",
   "id": "c887bd7a-2efa-4c51-9f1e-0c822f41e4e4",
   "metadata": {},
   "source": [
    "## $/$ operator\n",
    "\n",
    "$/$ operator can only be used for the calculation in $\\mathbf{a}/b$\n",
    "\n",
    "where\n",
    "\n",
    "\n",
    "$\\mathbf{A}/ b=\\mathbf{C},\\mathrm{with}~C_{ij}=A_{ij}/b$"
   ]
  },
  {
   "cell_type": "code",
   "execution_count": 5,
   "id": "b0f61a66-276b-4d84-8221-b42b412ae049",
   "metadata": {},
   "outputs": [
    {
     "name": "stdout",
     "output_type": "stream",
     "text": [
      "tensor e is:\n",
      "(  -1.16183e+00,   -1.28156e-01,   -1.58263e-01)\n",
      "(  -8.73723e-01,   -1.64934e+00,   -9.55653e-01)\n",
      "(  -1.99584e-01,   -7.37875e-01,   -1.40850e+00)\n",
      "-------------------------------------\n",
      "tensor e/10.0 is\n",
      "(  -1.16183e-01,   -1.28156e-02,   -1.58263e-02)\n",
      "(  -8.73723e-02,   -1.64934e-01,   -9.55653e-02)\n",
      "(  -1.99584e-02,   -7.37875e-02,   -1.40850e-01)\n"
     ]
    }
   ],
   "source": [
    "tensor_e= tensor_d+1.0\n",
    "\n",
    "print('tensor e is:')\n",
    "print(tensor_e)\n",
    "print('-------------------------------------')\n",
    "\n",
    "print('tensor e/10.0 is')\n",
    "print(tensor_e/10.0)"
   ]
  },
  {
   "cell_type": "markdown",
   "id": "7e07329b-8038-4352-b1e3-435eba189431",
   "metadata": {},
   "source": [
    "## Other operators\n",
    "\n",
    "dev, trace, det, and double contraction"
   ]
  },
  {
   "cell_type": "code",
   "execution_count": 6,
   "id": "32da3d68-e3bd-4a02-be70-9bd3c0b73a7b",
   "metadata": {},
   "outputs": [
    {
     "name": "stdout",
     "output_type": "stream",
     "text": [
      "tensor e is:\n",
      "(  -1.16183e+00,   -1.28156e-01,   -1.58263e-01)\n",
      "(  -8.73723e-01,   -1.64934e+00,   -9.55653e-01)\n",
      "(  -1.99584e-01,   -7.37875e-01,   -1.40850e+00)\n",
      "-------------------------------------\n",
      "trace of tensor e is:\n",
      "-4.219671348881736\n",
      "-------------------------------------\n",
      "det of tensor e is:\n",
      "-1.7964415859486575\n",
      "-------------------------------------\n",
      "dev of tensor e is:\n",
      "(   2.44724e-01,   -1.28156e-01,   -1.58263e-01)\n",
      "(  -8.73723e-01,   -2.42779e-01,   -9.55653e-01)\n",
      "(  -1.99584e-01,   -7.37875e-01,   -1.94581e-03)\n",
      "-------------------------------------\n",
      "1st col of tensor e is:\n",
      "(  -1.16183e+00,   -8.73723e-01,   -1.99584e-01)\n",
      "-------------------------------------\n",
      "2nd row of tensor e is:\n",
      "(  -8.73723e-01,   -1.64934e+00,   -9.55653e-01)\n",
      "-------------------------------------\n",
      "double contraction between tensor e and its dev part:\n",
      "2.421265723034666\n"
     ]
    }
   ],
   "source": [
    "print('tensor e is:')\n",
    "print(tensor_e)\n",
    "print('-------------------------------------')\n",
    "\n",
    "print('trace of tensor e is:')\n",
    "print(tensor_e.trace())\n",
    "print('-------------------------------------')\n",
    "\n",
    "print('det of tensor e is:')\n",
    "print(tensor_e.det())\n",
    "print('-------------------------------------')\n",
    "\n",
    "print('dev of tensor e is:')\n",
    "tensor_e_dev = tensor_e.dev()\n",
    "print(tensor_e_dev)\n",
    "print('-------------------------------------')\n",
    "\n",
    "print('1st col of tensor e is:')\n",
    "print(tensor_e.ithCol(0))\n",
    "print('-------------------------------------')\n",
    "\n",
    "print('2nd row of tensor e is:')\n",
    "print(tensor_e.ithRow(1))\n",
    "print('-------------------------------------')\n",
    "\n",
    "print('double contraction between tensor e and its dev part:')\n",
    "print(tensor_e.doublecontraction(tensor_e_dev))"
   ]
  }
 ],
 "metadata": {
  "kernelspec": {
   "display_name": "Python 3 (ipykernel)",
   "language": "python",
   "name": "python3"
  },
  "language_info": {
   "codemirror_mode": {
    "name": "ipython",
    "version": 3
   },
   "file_extension": ".py",
   "mimetype": "text/x-python",
   "name": "python",
   "nbconvert_exporter": "python",
   "pygments_lexer": "ipython3",
   "version": "3.10.4"
  }
 },
 "nbformat": 4,
 "nbformat_minor": 5
}
